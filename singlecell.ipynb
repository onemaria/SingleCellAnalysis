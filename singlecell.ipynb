{
 "cells": [
  {
   "cell_type": "code",
   "execution_count": null,
   "metadata": {
    "collapsed": true,
    "pycharm": {
     "is_executing": true
    }
   },
   "outputs": [],
   "source": [
    "!pip install scanpy"
   ]
  },
  {
   "cell_type": "code",
   "execution_count": 6,
   "outputs": [],
   "source": [
    "import scanpy as sc"
   ],
   "metadata": {
    "collapsed": false
   }
  },
  {
   "cell_type": "code",
   "execution_count": 7,
   "outputs": [
    {
     "data": {
      "text/plain": "AnnData object with n_obs × n_vars = 6099 × 34546"
     },
     "execution_count": 7,
     "metadata": {},
     "output_type": "execute_result"
    }
   ],
   "source": [
    "adata = sc.read_csv('GSM5226574_C51ctr_raw_counts.csv').T\n",
    "adata"
   ],
   "metadata": {
    "collapsed": false
   }
  },
  {
   "cell_type": "code",
   "execution_count": 8,
   "outputs": [
    {
     "data": {
      "text/plain": "Empty DataFrame\nColumns: []\nIndex: [TAGGTACCATGGCCAC-1_1, ATTCACTGTAACAGGC-1_1, TAACTTCCAACCACGC-1_1, TTGGGTACACGACAAG-1_1, AGGCCACAGAGTCACG-1_1, CACTGAAGTCGAAGCA-1_1, ACTGATGTCTGCACCT-1_1, TTACCGCCACTCAGAT-1_1, TTGGTTTTCCTAGCTC-1_1, TGGGAAGTCAGTGATC-1_1, CCACGAGTCTCTTAAC-1_1, ACTTCCGCACAACGCC-1_1, GGGAAGTAGCGACCCT-1_1, TGGTAGTTCCCGTGTT-1_1, CGCATAACATGCCGGT-1_1, TCTATCACAAGGCTTT-1_1, ATCCACCAGAGGTATT-1_1, TAACGACAGATGACCG-1_1, TCTTAGTGTATGAGGC-1_1, CACTTCGCAGTACTAC-1_1, GTCAAACAGAACGTGC-1_1, GCAACCGAGGGCAGGA-1_1, CATACTTTCATCACTT-1_1, AAGAACATCGGATTAC-1_1, GGGTATTGTACGATGG-1_1, CTGTAGATCAACGTGT-1_1, GTCATTTGTATCTCGA-1_1, CCTTGTGCAGAGGGTT-1_1, AAGTTCGCAACACGTT-1_1, TCATTCACAAATCAAG-1_1, TCCATGCCAACGACTT-1_1, TCCTTCTCAGTTTCAG-1_1, TGTGAGTCAAATGATG-1_1, AAACGAAGTACAGAGC-1_1, CAACCAAAGTATTCCG-1_1, CTTCTCTCAGAGACTG-1_1, TACAACGGTGGCTGAA-1_1, AACGGGACATGCCGGT-1_1, AACCAACGTTGGGAAC-1_1, TATATCCAGCGTCAGA-1_1, AGACAAACATCCCGTT-1_1, ATGACCAGTCTTCATT-1_1, CTTACCGTCAGACATC-1_1, CGGGACTGTTAGTTCG-1_1, ATTCATCCACTGAGTT-1_1, TCATGAGAGAGGCGGA-1_1, TCCCACATCTAGTACG-1_1, CTTCCTTCATATCTCT-1_1, CCGGACACACTCGATA-1_1, ACACGCGCACCTGTCT-1_1, GAATCGTCAGAAGTGC-1_1, GGTGGCTCAAGCTCTA-1_1, CCTGCATCACATATGC-1_1, GTGGGAAGTTAAAGTG-1_1, CGTTCTGGTACTAGCT-1_1, ACCCTCACAATAGTCC-1_1, GCCCGAACAAACTAAG-1_1, GTGGAAGCACATGACT-1_1, GTTGTGACATCGATAC-1_1, GACAGCCCAGGTCCGT-1_1, TAAGCACGTTGGCTAT-1_1, GGGACAAGTCACCACG-1_1, CTGGCAGGTTCGGTAT-1_1, GACTCAACACTGTGAT-1_1, GCCAGTGGTGTGGTCC-1_1, TCTAACTGTAGGCAGT-1_1, GAAGAATGTAGCTTGT-1_1, TCACTCGCAATCTCTT-1_1, CAAGACTTCCCACAGG-1_1, CAGATACGTGACTCTA-1_1, TGGGATTAGAGGGTCT-1_1, ACCTGAACACTCCTTG-1_1, GACACGCCACTCGATA-1_1, CTCATCGTCACCGCTT-1_1, AGGTAGGGTCCCTGTT-1_1, TACCCGTCAACACTAC-1_1, TGCTGAAAGACGGATC-1_1, ACACCAACACAACGCC-1_1, AAGATAGCAAATGGAT-1_1, CTTCAATGTGACAGGT-1_1, GAAGCGAAGAGTTGAT-1_1, GCCGTGACACAAGCCC-1_1, CCTCAACCATACAGGG-1_1, ACAAAGATCCACAGGC-1_1, CAGATACAGTCCCAGC-1_1, GGCAGTCTCCGGTTCT-1_1, TAAGTCGAGCTGAGCA-1_1, GAGACCCGTCTGTGCG-1_1, TAACACGCATGTGTCA-1_1, TCAATTCGTTCTCGCT-1_1, GCTTTCGCACAGTGTT-1_1, AACCAACAGATAACAC-1_1, ATCGGCGCACATCATG-1_1, TCATCCGCACGAGGAT-1_1, CTGATCCTCTTTACAC-1_1, TCACACCCAACTTCTT-1_1, TGAGGGACACCGTACG-1_1, GTGCACGTCATCTGTT-1_1, GGTAATCAGTTGCATC-1_1, ATACTTCCAAGGTCTT-1_1, ...]\n\n[6099 rows x 0 columns]",
      "text/html": "<div>\n<style scoped>\n    .dataframe tbody tr th:only-of-type {\n        vertical-align: middle;\n    }\n\n    .dataframe tbody tr th {\n        vertical-align: top;\n    }\n\n    .dataframe thead th {\n        text-align: right;\n    }\n</style>\n<table border=\"1\" class=\"dataframe\">\n  <thead>\n    <tr style=\"text-align: right;\">\n      <th></th>\n    </tr>\n  </thead>\n  <tbody>\n    <tr>\n      <th>TAGGTACCATGGCCAC-1_1</th>\n    </tr>\n    <tr>\n      <th>ATTCACTGTAACAGGC-1_1</th>\n    </tr>\n    <tr>\n      <th>TAACTTCCAACCACGC-1_1</th>\n    </tr>\n    <tr>\n      <th>TTGGGTACACGACAAG-1_1</th>\n    </tr>\n    <tr>\n      <th>AGGCCACAGAGTCACG-1_1</th>\n    </tr>\n    <tr>\n      <th>...</th>\n    </tr>\n    <tr>\n      <th>CGCCATTGTTTGCCGG-1_1</th>\n    </tr>\n    <tr>\n      <th>CACTGGGGTCTACGTA-1_1</th>\n    </tr>\n    <tr>\n      <th>CATACTTGTAGAGGAA-1_1</th>\n    </tr>\n    <tr>\n      <th>TTTGGTTTCCACGGAC-1_1</th>\n    </tr>\n    <tr>\n      <th>ATGCATGAGTCATGAA-1_1</th>\n    </tr>\n  </tbody>\n</table>\n<p>6099 rows × 0 columns</p>\n</div>"
     },
     "execution_count": 8,
     "metadata": {},
     "output_type": "execute_result"
    }
   ],
   "source": [
    "adata.obs\n",
    "# observation dataframe =  cell barcodes"
   ],
   "metadata": {
    "collapsed": false
   }
  },
  {
   "cell_type": "code",
   "execution_count": 9,
   "outputs": [
    {
     "data": {
      "text/plain": "Empty DataFrame\nColumns: []\nIndex: [AL627309.1, AL627309.5, AL627309.4, AL669831.2, LINC01409, FAM87B, LINC01128, LINC00115, FAM41C, AL645608.6, AL645608.2, LINC02593, SAMD11, NOC2L, KLHL17, PLEKHN1, PERM1, AL645608.7, HES4, ISG15, AL645608.1, AGRN, C1orf159, AL390719.3, LINC01342, AL390719.2, TTLL10-AS1, TTLL10, TNFRSF18, TNFRSF4, SDF4, B3GALT6, C1QTNF12, UBE2J2, LINC01786, SCNN1D, ACAP3, PUSL1, INTS11, AL139287.1, CPTP, DVL1, MXRA8, AURKAIP1, CCNL2, MRPL20-AS1, MRPL20, AL391244.2, ANKRD65, AL391244.1, LINC01770, VWA1, ATAD3C, ATAD3B, ATAD3A, TMEM240, SSU72, AL645728.1, FNDC10, AL691432.4, AL691432.2, MIB2, MMP23B, CDK11B, FO704657.1, SLC35E2B, CDK11A, SLC35E2A, NADK, GNB1, AL109917.1, CALML6, TMEM52, CFAP74, GABRD, AL391845.1, PRKCZ, AL590822.2, PRKCZ-AS1, FAAP20, AL590822.1, SKI, AL590822.3, MORN1, AL589739.1, AL513477.2, RER1, PEX10, PLCH2, AL139246.4, PANK4, HES5, AL139246.5, TNFRSF14-AS1, TNFRSF14, AL139246.3, PRXL2B, MMEL1, TTC34, AC242022.2, ...]\n\n[34546 rows x 0 columns]",
      "text/html": "<div>\n<style scoped>\n    .dataframe tbody tr th:only-of-type {\n        vertical-align: middle;\n    }\n\n    .dataframe tbody tr th {\n        vertical-align: top;\n    }\n\n    .dataframe thead th {\n        text-align: right;\n    }\n</style>\n<table border=\"1\" class=\"dataframe\">\n  <thead>\n    <tr style=\"text-align: right;\">\n      <th></th>\n    </tr>\n  </thead>\n  <tbody>\n    <tr>\n      <th>AL627309.1</th>\n    </tr>\n    <tr>\n      <th>AL627309.5</th>\n    </tr>\n    <tr>\n      <th>AL627309.4</th>\n    </tr>\n    <tr>\n      <th>AL669831.2</th>\n    </tr>\n    <tr>\n      <th>LINC01409</th>\n    </tr>\n    <tr>\n      <th>...</th>\n    </tr>\n    <tr>\n      <th>VN1R2</th>\n    </tr>\n    <tr>\n      <th>AL031676.1</th>\n    </tr>\n    <tr>\n      <th>SMIM34A</th>\n    </tr>\n    <tr>\n      <th>AL050402.1</th>\n    </tr>\n    <tr>\n      <th>AL445072.1</th>\n    </tr>\n  </tbody>\n</table>\n<p>34546 rows × 0 columns</p>\n</div>"
     },
     "execution_count": 9,
     "metadata": {},
     "output_type": "execute_result"
    }
   ],
   "source": [
    "adata.var\n",
    "# genes, no additional info"
   ],
   "metadata": {
    "collapsed": false
   }
  },
  {
   "cell_type": "code",
   "execution_count": 10,
   "outputs": [
    {
     "data": {
      "text/plain": "(6099, 34546)"
     },
     "execution_count": 10,
     "metadata": {},
     "output_type": "execute_result"
    }
   ],
   "source": [
    "adata.X.shape\n",
    "# a numpy array"
   ],
   "metadata": {
    "collapsed": false
   }
  },
  {
   "cell_type": "markdown",
   "source": [
    "Preprocessing - Doublet removal (2 or more cells can end up in the same droplet) - on individual samples"
   ],
   "metadata": {
    "collapsed": false
   }
  },
  {
   "cell_type": "code",
   "execution_count": null,
   "outputs": [],
   "source": [
    "!pip install scvi-tools"
   ],
   "metadata": {
    "collapsed": false,
    "pycharm": {
     "is_executing": true
    }
   }
  },
  {
   "cell_type": "code",
   "execution_count": null,
   "outputs": [],
   "source": [
    "import scvi"
   ],
   "metadata": {
    "collapsed": false,
    "pycharm": {
     "is_executing": true
    }
   }
  },
  {
   "cell_type": "code",
   "execution_count": 13,
   "outputs": [],
   "source": [
    "sc.pp.filter_genes(adata, min_cells = 10)\n",
    "# keep genes found in at least 10 of the cells"
   ],
   "metadata": {
    "collapsed": false
   }
  },
  {
   "cell_type": "code",
   "execution_count": 14,
   "outputs": [
    {
     "data": {
      "text/plain": "AnnData object with n_obs × n_vars = 6099 × 19896\n    var: 'n_cells'"
     },
     "execution_count": 14,
     "metadata": {},
     "output_type": "execute_result"
    }
   ],
   "source": [
    "adata"
   ],
   "metadata": {
    "collapsed": false
   }
  },
  {
   "cell_type": "code",
   "execution_count": 15,
   "outputs": [
    {
     "name": "stdout",
     "output_type": "stream",
     "text": [
      "Collecting scikit-misc\n",
      "  Using cached scikit_misc-0.3.0-cp310-cp310-win_amd64.whl (10.0 MB)\n",
      "Requirement already satisfied: numpy>=1.22.3 in c:\\users\\mariam\\.virtualenvs\\singlecell-iqesqhkl\\lib\\site-packages (from scikit-misc) (1.24.4)\n",
      "Installing collected packages: scikit-misc\n",
      "Successfully installed scikit-misc-0.3.0\n"
     ]
    },
    {
     "name": "stderr",
     "output_type": "stream",
     "text": [
      "\n",
      "[notice] A new release of pip is available: 23.1.2 -> 23.2.1\n",
      "[notice] To update, run: python.exe -m pip install --upgrade pip\n"
     ]
    }
   ],
   "source": [
    "!pip install scikit-misc"
   ],
   "metadata": {
    "collapsed": false
   }
  },
  {
   "cell_type": "code",
   "execution_count": 16,
   "outputs": [],
   "source": [
    "sc.pp.highly_variable_genes(adata, n_top_genes=2000, subset = True, flavor= 'seurat_v3')\n",
    "# keep the 2000 genes that describe the data the best\n"
   ],
   "metadata": {
    "collapsed": false
   }
  },
  {
   "cell_type": "code",
   "execution_count": 17,
   "outputs": [
    {
     "data": {
      "text/plain": "AnnData object with n_obs × n_vars = 6099 × 2000\n    var: 'n_cells', 'highly_variable', 'highly_variable_rank', 'means', 'variances', 'variances_norm'\n    uns: 'hvg'"
     },
     "execution_count": 17,
     "metadata": {},
     "output_type": "execute_result"
    }
   ],
   "source": [
    "adata"
   ],
   "metadata": {
    "collapsed": false
   }
  },
  {
   "cell_type": "code",
   "execution_count": 18,
   "outputs": [
    {
     "name": "stderr",
     "output_type": "stream",
     "text": [
      "No GPU/TPU found, falling back to CPU. (Set TF_CPP_MIN_LOG_LEVEL=0 and rerun for more info.)\n",
      "GPU available: False, used: False\n",
      "TPU available: False, using: 0 TPU cores\n",
      "IPU available: False, using: 0 IPUs\n",
      "HPU available: False, using: 0 HPUs\n"
     ]
    },
    {
     "name": "stdout",
     "output_type": "stream",
     "text": [
      "Epoch 400/400: 100%|██████████| 400/400 [23:52<00:00,  3.78s/it, v_num=1, train_loss_step=348, train_loss_epoch=322]"
     ]
    },
    {
     "name": "stderr",
     "output_type": "stream",
     "text": [
      "`Trainer.fit` stopped: `max_epochs=400` reached.\n"
     ]
    },
    {
     "name": "stdout",
     "output_type": "stream",
     "text": [
      "Epoch 400/400: 100%|██████████| 400/400 [23:52<00:00,  3.58s/it, v_num=1, train_loss_step=348, train_loss_epoch=322]\n"
     ]
    }
   ],
   "source": [
    "scvi.model.SCVI.setup_anndata(adata)\n",
    "vae = scvi.model.SCVI(adata)\n",
    "vae.train()"
   ],
   "metadata": {
    "collapsed": false
   }
  },
  {
   "cell_type": "code",
   "execution_count": 21,
   "outputs": [
    {
     "name": "stdout",
     "output_type": "stream",
     "text": [
      "\u001B[34mINFO    \u001B[0m Creating doublets, preparing SOLO model.                                                                  \n"
     ]
    },
    {
     "name": "stderr",
     "output_type": "stream",
     "text": [
      "GPU available: False, used: False\n",
      "TPU available: False, using: 0 TPU cores\n",
      "IPU available: False, using: 0 IPUs\n",
      "HPU available: False, using: 0 HPUs\n"
     ]
    },
    {
     "name": "stdout",
     "output_type": "stream",
     "text": [
      "Epoch 397/400:  99%|█████████▉| 397/400 [02:27<00:01,  2.70it/s, v_num=1, train_loss_step=0.335, train_loss_epoch=0.291]\n",
      "Monitored metric validation_loss did not improve in the last 30 records. Best score: 0.282. Signaling Trainer to stop.\n"
     ]
    }
   ],
   "source": [
    "solo = scvi.external.SOLO.from_scvi_model(vae)\n",
    "solo.train()"
   ],
   "metadata": {
    "collapsed": false
   }
  },
  {
   "cell_type": "code",
   "execution_count": 22,
   "outputs": [
    {
     "data": {
      "text/plain": "                       doublet   singlet\nTAGGTACCATGGCCAC-1_1  1.127879 -1.050333\nATTCACTGTAACAGGC-1_1  1.510394 -1.159750\nTAACTTCCAACCACGC-1_1  0.379763 -0.399753\nTTGGGTACACGACAAG-1_1  1.065218 -1.441377\nAGGCCACAGAGTCACG-1_1  0.849202 -0.437673\n...                        ...       ...\nCGCCATTGTTTGCCGG-1_1 -2.681943  2.301342\nCACTGGGGTCTACGTA-1_1 -3.233708  3.502991\nCATACTTGTAGAGGAA-1_1 -2.139455  3.073576\nTTTGGTTTCCACGGAC-1_1 -2.899063  2.920408\nATGCATGAGTCATGAA-1_1 -2.039414  2.398470\n\n[6099 rows x 2 columns]",
      "text/html": "<div>\n<style scoped>\n    .dataframe tbody tr th:only-of-type {\n        vertical-align: middle;\n    }\n\n    .dataframe tbody tr th {\n        vertical-align: top;\n    }\n\n    .dataframe thead th {\n        text-align: right;\n    }\n</style>\n<table border=\"1\" class=\"dataframe\">\n  <thead>\n    <tr style=\"text-align: right;\">\n      <th></th>\n      <th>doublet</th>\n      <th>singlet</th>\n    </tr>\n  </thead>\n  <tbody>\n    <tr>\n      <th>TAGGTACCATGGCCAC-1_1</th>\n      <td>1.127879</td>\n      <td>-1.050333</td>\n    </tr>\n    <tr>\n      <th>ATTCACTGTAACAGGC-1_1</th>\n      <td>1.510394</td>\n      <td>-1.159750</td>\n    </tr>\n    <tr>\n      <th>TAACTTCCAACCACGC-1_1</th>\n      <td>0.379763</td>\n      <td>-0.399753</td>\n    </tr>\n    <tr>\n      <th>TTGGGTACACGACAAG-1_1</th>\n      <td>1.065218</td>\n      <td>-1.441377</td>\n    </tr>\n    <tr>\n      <th>AGGCCACAGAGTCACG-1_1</th>\n      <td>0.849202</td>\n      <td>-0.437673</td>\n    </tr>\n    <tr>\n      <th>...</th>\n      <td>...</td>\n      <td>...</td>\n    </tr>\n    <tr>\n      <th>CGCCATTGTTTGCCGG-1_1</th>\n      <td>-2.681943</td>\n      <td>2.301342</td>\n    </tr>\n    <tr>\n      <th>CACTGGGGTCTACGTA-1_1</th>\n      <td>-3.233708</td>\n      <td>3.502991</td>\n    </tr>\n    <tr>\n      <th>CATACTTGTAGAGGAA-1_1</th>\n      <td>-2.139455</td>\n      <td>3.073576</td>\n    </tr>\n    <tr>\n      <th>TTTGGTTTCCACGGAC-1_1</th>\n      <td>-2.899063</td>\n      <td>2.920408</td>\n    </tr>\n    <tr>\n      <th>ATGCATGAGTCATGAA-1_1</th>\n      <td>-2.039414</td>\n      <td>2.398470</td>\n    </tr>\n  </tbody>\n</table>\n<p>6099 rows × 2 columns</p>\n</div>"
     },
     "execution_count": 22,
     "metadata": {},
     "output_type": "execute_result"
    }
   ],
   "source": [
    "solo.predict()"
   ],
   "metadata": {
    "collapsed": false
   }
  },
  {
   "cell_type": "code",
   "execution_count": 36,
   "outputs": [
    {
     "data": {
      "text/plain": "                       doublet   singlet prediction\nTAGGTACCATGGCCAC-1_1  1.127879 -1.050333    doublet\nATTCACTGTAACAGGC-1_1  1.510394 -1.159750    doublet\nTAACTTCCAACCACGC-1_1  0.379763 -0.399753    doublet\nTTGGGTACACGACAAG-1_1  1.065218 -1.441377    doublet\nAGGCCACAGAGTCACG-1_1  0.849202 -0.437673    doublet\n...                        ...       ...        ...\nCGCCATTGTTTGCCGG-1_1 -2.681943  2.301342    singlet\nCACTGGGGTCTACGTA-1_1 -3.233708  3.502991    singlet\nCATACTTGTAGAGGAA-1_1 -2.139455  3.073576    singlet\nTTTGGTTTCCACGGAC-1_1 -2.899063  2.920408    singlet\nATGCATGAGTCATGAA-1_1 -2.039414  2.398470    singlet\n\n[6099 rows x 3 columns]",
      "text/html": "<div>\n<style scoped>\n    .dataframe tbody tr th:only-of-type {\n        vertical-align: middle;\n    }\n\n    .dataframe tbody tr th {\n        vertical-align: top;\n    }\n\n    .dataframe thead th {\n        text-align: right;\n    }\n</style>\n<table border=\"1\" class=\"dataframe\">\n  <thead>\n    <tr style=\"text-align: right;\">\n      <th></th>\n      <th>doublet</th>\n      <th>singlet</th>\n      <th>prediction</th>\n    </tr>\n  </thead>\n  <tbody>\n    <tr>\n      <th>TAGGTACCATGGCCAC-1_1</th>\n      <td>1.127879</td>\n      <td>-1.050333</td>\n      <td>doublet</td>\n    </tr>\n    <tr>\n      <th>ATTCACTGTAACAGGC-1_1</th>\n      <td>1.510394</td>\n      <td>-1.159750</td>\n      <td>doublet</td>\n    </tr>\n    <tr>\n      <th>TAACTTCCAACCACGC-1_1</th>\n      <td>0.379763</td>\n      <td>-0.399753</td>\n      <td>doublet</td>\n    </tr>\n    <tr>\n      <th>TTGGGTACACGACAAG-1_1</th>\n      <td>1.065218</td>\n      <td>-1.441377</td>\n      <td>doublet</td>\n    </tr>\n    <tr>\n      <th>AGGCCACAGAGTCACG-1_1</th>\n      <td>0.849202</td>\n      <td>-0.437673</td>\n      <td>doublet</td>\n    </tr>\n    <tr>\n      <th>...</th>\n      <td>...</td>\n      <td>...</td>\n      <td>...</td>\n    </tr>\n    <tr>\n      <th>CGCCATTGTTTGCCGG-1_1</th>\n      <td>-2.681943</td>\n      <td>2.301342</td>\n      <td>singlet</td>\n    </tr>\n    <tr>\n      <th>CACTGGGGTCTACGTA-1_1</th>\n      <td>-3.233708</td>\n      <td>3.502991</td>\n      <td>singlet</td>\n    </tr>\n    <tr>\n      <th>CATACTTGTAGAGGAA-1_1</th>\n      <td>-2.139455</td>\n      <td>3.073576</td>\n      <td>singlet</td>\n    </tr>\n    <tr>\n      <th>TTTGGTTTCCACGGAC-1_1</th>\n      <td>-2.899063</td>\n      <td>2.920408</td>\n      <td>singlet</td>\n    </tr>\n    <tr>\n      <th>ATGCATGAGTCATGAA-1_1</th>\n      <td>-2.039414</td>\n      <td>2.398470</td>\n      <td>singlet</td>\n    </tr>\n  </tbody>\n</table>\n<p>6099 rows × 3 columns</p>\n</div>"
     },
     "execution_count": 36,
     "metadata": {},
     "output_type": "execute_result"
    }
   ],
   "source": [
    "df = solo.predict()\n",
    "df['prediction'] = solo.predict(soft = False)\n",
    "\n",
    "\n",
    "df"
   ],
   "metadata": {
    "collapsed": false
   }
  },
  {
   "cell_type": "code",
   "execution_count": 37,
   "outputs": [
    {
     "data": {
      "text/plain": "            doublet  singlet\nprediction                  \ndoublet        1298     1298\nsinglet        4801     4801",
      "text/html": "<div>\n<style scoped>\n    .dataframe tbody tr th:only-of-type {\n        vertical-align: middle;\n    }\n\n    .dataframe tbody tr th {\n        vertical-align: top;\n    }\n\n    .dataframe thead th {\n        text-align: right;\n    }\n</style>\n<table border=\"1\" class=\"dataframe\">\n  <thead>\n    <tr style=\"text-align: right;\">\n      <th></th>\n      <th>doublet</th>\n      <th>singlet</th>\n    </tr>\n    <tr>\n      <th>prediction</th>\n      <th></th>\n      <th></th>\n    </tr>\n  </thead>\n  <tbody>\n    <tr>\n      <th>doublet</th>\n      <td>1298</td>\n      <td>1298</td>\n    </tr>\n    <tr>\n      <th>singlet</th>\n      <td>4801</td>\n      <td>4801</td>\n    </tr>\n  </tbody>\n</table>\n</div>"
     },
     "execution_count": 37,
     "metadata": {},
     "output_type": "execute_result"
    }
   ],
   "source": [
    "df.groupby('prediction').count()"
   ],
   "metadata": {
    "collapsed": false
   }
  },
  {
   "cell_type": "code",
   "execution_count": 38,
   "outputs": [
    {
     "data": {
      "text/plain": "                       doublet   singlet prediction       dif\nTAGGTACCATGGCCAC-1_1  1.127879 -1.050333    doublet  2.178212\nATTCACTGTAACAGGC-1_1  1.510394 -1.159750    doublet  2.670145\nTAACTTCCAACCACGC-1_1  0.379763 -0.399753    doublet  0.779516\nTTGGGTACACGACAAG-1_1  1.065218 -1.441377    doublet  2.506595\nAGGCCACAGAGTCACG-1_1  0.849202 -0.437673    doublet  1.286875\n...                        ...       ...        ...       ...\nCGCCATTGTTTGCCGG-1_1 -2.681943  2.301342    singlet -4.983285\nCACTGGGGTCTACGTA-1_1 -3.233708  3.502991    singlet -6.736699\nCATACTTGTAGAGGAA-1_1 -2.139455  3.073576    singlet -5.213032\nTTTGGTTTCCACGGAC-1_1 -2.899063  2.920408    singlet -5.819471\nATGCATGAGTCATGAA-1_1 -2.039414  2.398470    singlet -4.437884\n\n[6099 rows x 4 columns]",
      "text/html": "<div>\n<style scoped>\n    .dataframe tbody tr th:only-of-type {\n        vertical-align: middle;\n    }\n\n    .dataframe tbody tr th {\n        vertical-align: top;\n    }\n\n    .dataframe thead th {\n        text-align: right;\n    }\n</style>\n<table border=\"1\" class=\"dataframe\">\n  <thead>\n    <tr style=\"text-align: right;\">\n      <th></th>\n      <th>doublet</th>\n      <th>singlet</th>\n      <th>prediction</th>\n      <th>dif</th>\n    </tr>\n  </thead>\n  <tbody>\n    <tr>\n      <th>TAGGTACCATGGCCAC-1_1</th>\n      <td>1.127879</td>\n      <td>-1.050333</td>\n      <td>doublet</td>\n      <td>2.178212</td>\n    </tr>\n    <tr>\n      <th>ATTCACTGTAACAGGC-1_1</th>\n      <td>1.510394</td>\n      <td>-1.159750</td>\n      <td>doublet</td>\n      <td>2.670145</td>\n    </tr>\n    <tr>\n      <th>TAACTTCCAACCACGC-1_1</th>\n      <td>0.379763</td>\n      <td>-0.399753</td>\n      <td>doublet</td>\n      <td>0.779516</td>\n    </tr>\n    <tr>\n      <th>TTGGGTACACGACAAG-1_1</th>\n      <td>1.065218</td>\n      <td>-1.441377</td>\n      <td>doublet</td>\n      <td>2.506595</td>\n    </tr>\n    <tr>\n      <th>AGGCCACAGAGTCACG-1_1</th>\n      <td>0.849202</td>\n      <td>-0.437673</td>\n      <td>doublet</td>\n      <td>1.286875</td>\n    </tr>\n    <tr>\n      <th>...</th>\n      <td>...</td>\n      <td>...</td>\n      <td>...</td>\n      <td>...</td>\n    </tr>\n    <tr>\n      <th>CGCCATTGTTTGCCGG-1_1</th>\n      <td>-2.681943</td>\n      <td>2.301342</td>\n      <td>singlet</td>\n      <td>-4.983285</td>\n    </tr>\n    <tr>\n      <th>CACTGGGGTCTACGTA-1_1</th>\n      <td>-3.233708</td>\n      <td>3.502991</td>\n      <td>singlet</td>\n      <td>-6.736699</td>\n    </tr>\n    <tr>\n      <th>CATACTTGTAGAGGAA-1_1</th>\n      <td>-2.139455</td>\n      <td>3.073576</td>\n      <td>singlet</td>\n      <td>-5.213032</td>\n    </tr>\n    <tr>\n      <th>TTTGGTTTCCACGGAC-1_1</th>\n      <td>-2.899063</td>\n      <td>2.920408</td>\n      <td>singlet</td>\n      <td>-5.819471</td>\n    </tr>\n    <tr>\n      <th>ATGCATGAGTCATGAA-1_1</th>\n      <td>-2.039414</td>\n      <td>2.398470</td>\n      <td>singlet</td>\n      <td>-4.437884</td>\n    </tr>\n  </tbody>\n</table>\n<p>6099 rows × 4 columns</p>\n</div>"
     },
     "execution_count": 38,
     "metadata": {},
     "output_type": "execute_result"
    }
   ],
   "source": [
    "df['dif'] =  df.doublet - df.singlet\n",
    "df"
   ],
   "metadata": {
    "collapsed": false
   }
  },
  {
   "cell_type": "code",
   "execution_count": 39,
   "outputs": [],
   "source": [
    "import seaborn as sns"
   ],
   "metadata": {
    "collapsed": false
   }
  },
  {
   "cell_type": "code",
   "execution_count": 40,
   "outputs": [
    {
     "name": "stderr",
     "output_type": "stream",
     "text": [
      "C:\\Users\\mariam\\.virtualenvs\\SingleCell-iqEsqHKl\\lib\\site-packages\\seaborn\\axisgrid.py:118: UserWarning: The figure layout has changed to tight\n",
      "  self._figure.tight_layout(*args, **kwargs)\n"
     ]
    },
    {
     "data": {
      "text/plain": "<seaborn.axisgrid.FacetGrid at 0x282308d7400>"
     },
     "execution_count": 40,
     "metadata": {},
     "output_type": "execute_result"
    },
    {
     "data": {
      "text/plain": "<Figure size 500x500 with 1 Axes>",
      "image/png": "[encoded data removed]"
     },
     "metadata": {},
     "output_type": "display_data"
    }
   ],
   "source": [
    "sns.displot(df[df.prediction == 'doublet'], x = 'dif')"
   ],
   "metadata": {
    "collapsed": false
   }
  },
  {
   "cell_type": "code",
   "execution_count": 41,
   "outputs": [
    {
     "data": {
      "text/plain": "                       doublet   singlet prediction       dif\nTAGGTACCATGGCCAC-1_1  1.127879 -1.050333    doublet  2.178212\nATTCACTGTAACAGGC-1_1  1.510394 -1.159750    doublet  2.670145\nTTGGGTACACGACAAG-1_1  1.065218 -1.441377    doublet  2.506595\nAGGCCACAGAGTCACG-1_1  0.849202 -0.437673    doublet  1.286875\nCACTGAAGTCGAAGCA-1_1  1.061837 -0.653565    doublet  1.715402\n...                        ...       ...        ...       ...\nTCAGCAAAGCAACTTC-1_1  0.528809 -0.549553    doublet  1.078362\nGGGTATTTCAGCGCAC-1_1  1.300636 -1.284965    doublet  2.585601\nCGGAGAAGTTTGTTGG-1_1  0.369314 -0.680651    doublet  1.049966\nCTAACCCGTTCTGACA-1_1  0.828685 -0.292794    doublet  1.121479\nGACGCTGTCATCAGTG-1_1  0.592655 -0.707033    doublet  1.299688\n\n[540 rows x 4 columns]",
      "text/html": "<div>\n<style scoped>\n    .dataframe tbody tr th:only-of-type {\n        vertical-align: middle;\n    }\n\n    .dataframe tbody tr th {\n        vertical-align: top;\n    }\n\n    .dataframe thead th {\n        text-align: right;\n    }\n</style>\n<table border=\"1\" class=\"dataframe\">\n  <thead>\n    <tr style=\"text-align: right;\">\n      <th></th>\n      <th>doublet</th>\n      <th>singlet</th>\n      <th>prediction</th>\n      <th>dif</th>\n    </tr>\n  </thead>\n  <tbody>\n    <tr>\n      <th>TAGGTACCATGGCCAC-1_1</th>\n      <td>1.127879</td>\n      <td>-1.050333</td>\n      <td>doublet</td>\n      <td>2.178212</td>\n    </tr>\n    <tr>\n      <th>ATTCACTGTAACAGGC-1_1</th>\n      <td>1.510394</td>\n      <td>-1.159750</td>\n      <td>doublet</td>\n      <td>2.670145</td>\n    </tr>\n    <tr>\n      <th>TTGGGTACACGACAAG-1_1</th>\n      <td>1.065218</td>\n      <td>-1.441377</td>\n      <td>doublet</td>\n      <td>2.506595</td>\n    </tr>\n    <tr>\n      <th>AGGCCACAGAGTCACG-1_1</th>\n      <td>0.849202</td>\n      <td>-0.437673</td>\n      <td>doublet</td>\n      <td>1.286875</td>\n    </tr>\n    <tr>\n      <th>CACTGAAGTCGAAGCA-1_1</th>\n      <td>1.061837</td>\n      <td>-0.653565</td>\n      <td>doublet</td>\n      <td>1.715402</td>\n    </tr>\n    <tr>\n      <th>...</th>\n      <td>...</td>\n      <td>...</td>\n      <td>...</td>\n      <td>...</td>\n    </tr>\n    <tr>\n      <th>TCAGCAAAGCAACTTC-1_1</th>\n      <td>0.528809</td>\n      <td>-0.549553</td>\n      <td>doublet</td>\n      <td>1.078362</td>\n    </tr>\n    <tr>\n      <th>GGGTATTTCAGCGCAC-1_1</th>\n      <td>1.300636</td>\n      <td>-1.284965</td>\n      <td>doublet</td>\n      <td>2.585601</td>\n    </tr>\n    <tr>\n      <th>CGGAGAAGTTTGTTGG-1_1</th>\n      <td>0.369314</td>\n      <td>-0.680651</td>\n      <td>doublet</td>\n      <td>1.049966</td>\n    </tr>\n    <tr>\n      <th>CTAACCCGTTCTGACA-1_1</th>\n      <td>0.828685</td>\n      <td>-0.292794</td>\n      <td>doublet</td>\n      <td>1.121479</td>\n    </tr>\n    <tr>\n      <th>GACGCTGTCATCAGTG-1_1</th>\n      <td>0.592655</td>\n      <td>-0.707033</td>\n      <td>doublet</td>\n      <td>1.299688</td>\n    </tr>\n  </tbody>\n</table>\n<p>540 rows × 4 columns</p>\n</div>"
     },
     "execution_count": 41,
     "metadata": {},
     "output_type": "execute_result"
    }
   ],
   "source": [
    "doublets = df[(df.prediction == 'doublet') & (df.dif >1)]\n",
    "doublets"
   ],
   "metadata": {
    "collapsed": false
   }
  },
  {
   "cell_type": "code",
   "execution_count": 42,
   "outputs": [
    {
     "name": "stderr",
     "output_type": "stream",
     "text": [
      "C:\\Users\\mariam\\AppData\\Local\\Temp\\ipykernel_2212\\3185662863.py:1: UserWarning: Boolean Series key will be reindexed to match DataFrame index.\n",
      "  sns.displot(doublets[df.prediction == 'doublet'], x = 'dif')\n",
      "C:\\Users\\mariam\\.virtualenvs\\SingleCell-iqEsqHKl\\lib\\site-packages\\seaborn\\axisgrid.py:118: UserWarning: The figure layout has changed to tight\n",
      "  self._figure.tight_layout(*args, **kwargs)\n"
     ]
    },
    {
     "data": {
      "text/plain": "<seaborn.axisgrid.FacetGrid at 0x2822d447910>"
     },
     "execution_count": 42,
     "metadata": {},
     "output_type": "execute_result"
    },
    {
     "data": {
      "text/plain": "<Figure size 500x500 with 1 Axes>",
      "image/png": "[encoded data removed]"
     },
     "metadata": {},
     "output_type": "display_data"
    }
   ],
   "source": [
    "sns.displot(doublets[df.prediction == 'doublet'], x = 'dif')\n"
   ],
   "metadata": {
    "collapsed": false
   }
  },
  {
   "cell_type": "code",
   "execution_count": 34,
   "outputs": [],
   "source": [
    "adata = sc.read_csv('GSM5226574_C51ctr_raw_counts.csv').T"
   ],
   "metadata": {
    "collapsed": false
   }
  },
  {
   "cell_type": "code",
   "execution_count": 35,
   "outputs": [
    {
     "data": {
      "text/plain": "Empty DataFrame\nColumns: []\nIndex: [TAGGTACCATGGCCAC-1_1, ATTCACTGTAACAGGC-1_1, TAACTTCCAACCACGC-1_1, TTGGGTACACGACAAG-1_1, AGGCCACAGAGTCACG-1_1, CACTGAAGTCGAAGCA-1_1, ACTGATGTCTGCACCT-1_1, TTACCGCCACTCAGAT-1_1, TTGGTTTTCCTAGCTC-1_1, TGGGAAGTCAGTGATC-1_1, CCACGAGTCTCTTAAC-1_1, ACTTCCGCACAACGCC-1_1, GGGAAGTAGCGACCCT-1_1, TGGTAGTTCCCGTGTT-1_1, CGCATAACATGCCGGT-1_1, TCTATCACAAGGCTTT-1_1, ATCCACCAGAGGTATT-1_1, TAACGACAGATGACCG-1_1, TCTTAGTGTATGAGGC-1_1, CACTTCGCAGTACTAC-1_1, GTCAAACAGAACGTGC-1_1, GCAACCGAGGGCAGGA-1_1, CATACTTTCATCACTT-1_1, AAGAACATCGGATTAC-1_1, GGGTATTGTACGATGG-1_1, CTGTAGATCAACGTGT-1_1, GTCATTTGTATCTCGA-1_1, CCTTGTGCAGAGGGTT-1_1, AAGTTCGCAACACGTT-1_1, TCATTCACAAATCAAG-1_1, TCCATGCCAACGACTT-1_1, TCCTTCTCAGTTTCAG-1_1, TGTGAGTCAAATGATG-1_1, AAACGAAGTACAGAGC-1_1, CAACCAAAGTATTCCG-1_1, CTTCTCTCAGAGACTG-1_1, TACAACGGTGGCTGAA-1_1, AACGGGACATGCCGGT-1_1, AACCAACGTTGGGAAC-1_1, TATATCCAGCGTCAGA-1_1, AGACAAACATCCCGTT-1_1, ATGACCAGTCTTCATT-1_1, CTTACCGTCAGACATC-1_1, CGGGACTGTTAGTTCG-1_1, ATTCATCCACTGAGTT-1_1, TCATGAGAGAGGCGGA-1_1, TCCCACATCTAGTACG-1_1, CTTCCTTCATATCTCT-1_1, CCGGACACACTCGATA-1_1, ACACGCGCACCTGTCT-1_1, GAATCGTCAGAAGTGC-1_1, GGTGGCTCAAGCTCTA-1_1, CCTGCATCACATATGC-1_1, GTGGGAAGTTAAAGTG-1_1, CGTTCTGGTACTAGCT-1_1, ACCCTCACAATAGTCC-1_1, GCCCGAACAAACTAAG-1_1, GTGGAAGCACATGACT-1_1, GTTGTGACATCGATAC-1_1, GACAGCCCAGGTCCGT-1_1, TAAGCACGTTGGCTAT-1_1, GGGACAAGTCACCACG-1_1, CTGGCAGGTTCGGTAT-1_1, GACTCAACACTGTGAT-1_1, GCCAGTGGTGTGGTCC-1_1, TCTAACTGTAGGCAGT-1_1, GAAGAATGTAGCTTGT-1_1, TCACTCGCAATCTCTT-1_1, CAAGACTTCCCACAGG-1_1, CAGATACGTGACTCTA-1_1, TGGGATTAGAGGGTCT-1_1, ACCTGAACACTCCTTG-1_1, GACACGCCACTCGATA-1_1, CTCATCGTCACCGCTT-1_1, AGGTAGGGTCCCTGTT-1_1, TACCCGTCAACACTAC-1_1, TGCTGAAAGACGGATC-1_1, ACACCAACACAACGCC-1_1, AAGATAGCAAATGGAT-1_1, CTTCAATGTGACAGGT-1_1, GAAGCGAAGAGTTGAT-1_1, GCCGTGACACAAGCCC-1_1, CCTCAACCATACAGGG-1_1, ACAAAGATCCACAGGC-1_1, CAGATACAGTCCCAGC-1_1, GGCAGTCTCCGGTTCT-1_1, TAAGTCGAGCTGAGCA-1_1, GAGACCCGTCTGTGCG-1_1, TAACACGCATGTGTCA-1_1, TCAATTCGTTCTCGCT-1_1, GCTTTCGCACAGTGTT-1_1, AACCAACAGATAACAC-1_1, ATCGGCGCACATCATG-1_1, TCATCCGCACGAGGAT-1_1, CTGATCCTCTTTACAC-1_1, TCACACCCAACTTCTT-1_1, TGAGGGACACCGTACG-1_1, GTGCACGTCATCTGTT-1_1, GGTAATCAGTTGCATC-1_1, ATACTTCCAAGGTCTT-1_1, ...]\n\n[6099 rows x 0 columns]",
      "text/html": "<div>\n<style scoped>\n    .dataframe tbody tr th:only-of-type {\n        vertical-align: middle;\n    }\n\n    .dataframe tbody tr th {\n        vertical-align: top;\n    }\n\n    .dataframe thead th {\n        text-align: right;\n    }\n</style>\n<table border=\"1\" class=\"dataframe\">\n  <thead>\n    <tr style=\"text-align: right;\">\n      <th></th>\n    </tr>\n  </thead>\n  <tbody>\n    <tr>\n      <th>TAGGTACCATGGCCAC-1_1</th>\n    </tr>\n    <tr>\n      <th>ATTCACTGTAACAGGC-1_1</th>\n    </tr>\n    <tr>\n      <th>TAACTTCCAACCACGC-1_1</th>\n    </tr>\n    <tr>\n      <th>TTGGGTACACGACAAG-1_1</th>\n    </tr>\n    <tr>\n      <th>AGGCCACAGAGTCACG-1_1</th>\n    </tr>\n    <tr>\n      <th>...</th>\n    </tr>\n    <tr>\n      <th>CGCCATTGTTTGCCGG-1_1</th>\n    </tr>\n    <tr>\n      <th>CACTGGGGTCTACGTA-1_1</th>\n    </tr>\n    <tr>\n      <th>CATACTTGTAGAGGAA-1_1</th>\n    </tr>\n    <tr>\n      <th>TTTGGTTTCCACGGAC-1_1</th>\n    </tr>\n    <tr>\n      <th>ATGCATGAGTCATGAA-1_1</th>\n    </tr>\n  </tbody>\n</table>\n<p>6099 rows × 0 columns</p>\n</div>"
     },
     "execution_count": 35,
     "metadata": {},
     "output_type": "execute_result"
    }
   ],
   "source": [
    "adata.obs"
   ],
   "metadata": {
    "collapsed": false
   }
  },
  {
   "cell_type": "code",
   "execution_count": 44,
   "outputs": [],
   "source": [
    "adata.obs['doublet'] = adata.obs.index.isin(doublets.index)"
   ],
   "metadata": {
    "collapsed": false
   }
  },
  {
   "cell_type": "code",
   "execution_count": 46,
   "outputs": [
    {
     "data": {
      "text/plain": "                      doublet\nTAGGTACCATGGCCAC-1_1     True\nATTCACTGTAACAGGC-1_1     True\nTAACTTCCAACCACGC-1_1    False\nTTGGGTACACGACAAG-1_1     True\nAGGCCACAGAGTCACG-1_1     True\n...                       ...\nCGCCATTGTTTGCCGG-1_1    False\nCACTGGGGTCTACGTA-1_1    False\nCATACTTGTAGAGGAA-1_1    False\nTTTGGTTTCCACGGAC-1_1    False\nATGCATGAGTCATGAA-1_1    False\n\n[6099 rows x 1 columns]",
      "text/html": "<div>\n<style scoped>\n    .dataframe tbody tr th:only-of-type {\n        vertical-align: middle;\n    }\n\n    .dataframe tbody tr th {\n        vertical-align: top;\n    }\n\n    .dataframe thead th {\n        text-align: right;\n    }\n</style>\n<table border=\"1\" class=\"dataframe\">\n  <thead>\n    <tr style=\"text-align: right;\">\n      <th></th>\n      <th>doublet</th>\n    </tr>\n  </thead>\n  <tbody>\n    <tr>\n      <th>TAGGTACCATGGCCAC-1_1</th>\n      <td>True</td>\n    </tr>\n    <tr>\n      <th>ATTCACTGTAACAGGC-1_1</th>\n      <td>True</td>\n    </tr>\n    <tr>\n      <th>TAACTTCCAACCACGC-1_1</th>\n      <td>False</td>\n    </tr>\n    <tr>\n      <th>TTGGGTACACGACAAG-1_1</th>\n      <td>True</td>\n    </tr>\n    <tr>\n      <th>AGGCCACAGAGTCACG-1_1</th>\n      <td>True</td>\n    </tr>\n    <tr>\n      <th>...</th>\n      <td>...</td>\n    </tr>\n    <tr>\n      <th>CGCCATTGTTTGCCGG-1_1</th>\n      <td>False</td>\n    </tr>\n    <tr>\n      <th>CACTGGGGTCTACGTA-1_1</th>\n      <td>False</td>\n    </tr>\n    <tr>\n      <th>CATACTTGTAGAGGAA-1_1</th>\n      <td>False</td>\n    </tr>\n    <tr>\n      <th>TTTGGTTTCCACGGAC-1_1</th>\n      <td>False</td>\n    </tr>\n    <tr>\n      <th>ATGCATGAGTCATGAA-1_1</th>\n      <td>False</td>\n    </tr>\n  </tbody>\n</table>\n<p>6099 rows × 1 columns</p>\n</div>"
     },
     "execution_count": 46,
     "metadata": {},
     "output_type": "execute_result"
    }
   ],
   "source": [
    "adata.obs"
   ],
   "metadata": {
    "collapsed": false
   }
  },
  {
   "cell_type": "code",
   "execution_count": 47,
   "outputs": [],
   "source": [
    "adata = adata[-adata.obs.doublet]"
   ],
   "metadata": {
    "collapsed": false
   }
  },
  {
   "cell_type": "code",
   "execution_count": 48,
   "outputs": [
    {
     "data": {
      "text/plain": "View of AnnData object with n_obs × n_vars = 5559 × 34546\n    obs: 'doublet'"
     },
     "execution_count": 48,
     "metadata": {},
     "output_type": "execute_result"
    }
   ],
   "source": [
    "adata"
   ],
   "metadata": {
    "collapsed": false
   }
  },
  {
   "cell_type": "markdown",
   "source": [
    "Preprocessing"
   ],
   "metadata": {
    "collapsed": false
   }
  },
  {
   "cell_type": "code",
   "execution_count": 49,
   "outputs": [
    {
     "data": {
      "text/plain": "Empty DataFrameView\nColumns: []\nIndex: [AL627309.1, AL627309.5, AL627309.4, AL669831.2, LINC01409, FAM87B, LINC01128, LINC00115, FAM41C, AL645608.6, AL645608.2, LINC02593, SAMD11, NOC2L, KLHL17, PLEKHN1, PERM1, AL645608.7, HES4, ISG15, AL645608.1, AGRN, C1orf159, AL390719.3, LINC01342, AL390719.2, TTLL10-AS1, TTLL10, TNFRSF18, TNFRSF4, SDF4, B3GALT6, C1QTNF12, UBE2J2, LINC01786, SCNN1D, ACAP3, PUSL1, INTS11, AL139287.1, CPTP, DVL1, MXRA8, AURKAIP1, CCNL2, MRPL20-AS1, MRPL20, AL391244.2, ANKRD65, AL391244.1, LINC01770, VWA1, ATAD3C, ATAD3B, ATAD3A, TMEM240, SSU72, AL645728.1, FNDC10, AL691432.4, AL691432.2, MIB2, MMP23B, CDK11B, FO704657.1, SLC35E2B, CDK11A, SLC35E2A, NADK, GNB1, AL109917.1, CALML6, TMEM52, CFAP74, GABRD, AL391845.1, PRKCZ, AL590822.2, PRKCZ-AS1, FAAP20, AL590822.1, SKI, AL590822.3, MORN1, AL589739.1, AL513477.2, RER1, PEX10, PLCH2, AL139246.4, PANK4, HES5, AL139246.5, TNFRSF14-AS1, TNFRSF14, AL139246.3, PRXL2B, MMEL1, TTC34, AC242022.2, ...]\n\n[34546 rows x 0 columns]",
      "text/html": "<div>\n<style scoped>\n    .dataframe tbody tr th:only-of-type {\n        vertical-align: middle;\n    }\n\n    .dataframe tbody tr th {\n        vertical-align: top;\n    }\n\n    .dataframe thead th {\n        text-align: right;\n    }\n</style>\n<table border=\"1\" class=\"dataframe\">\n  <thead>\n    <tr style=\"text-align: right;\">\n      <th></th>\n    </tr>\n  </thead>\n  <tbody>\n    <tr>\n      <th>AL627309.1</th>\n    </tr>\n    <tr>\n      <th>AL627309.5</th>\n    </tr>\n    <tr>\n      <th>AL627309.4</th>\n    </tr>\n    <tr>\n      <th>AL669831.2</th>\n    </tr>\n    <tr>\n      <th>LINC01409</th>\n    </tr>\n    <tr>\n      <th>...</th>\n    </tr>\n    <tr>\n      <th>VN1R2</th>\n    </tr>\n    <tr>\n      <th>AL031676.1</th>\n    </tr>\n    <tr>\n      <th>SMIM34A</th>\n    </tr>\n    <tr>\n      <th>AL050402.1</th>\n    </tr>\n    <tr>\n      <th>AL445072.1</th>\n    </tr>\n  </tbody>\n</table>\n<p>34546 rows × 0 columns</p>\n</div>"
     },
     "execution_count": 49,
     "metadata": {},
     "output_type": "execute_result"
    }
   ],
   "source": [
    "adata.var"
   ],
   "metadata": {
    "collapsed": false
   }
  },
  {
   "cell_type": "markdown",
   "source": [
    "#filter out mitochondrial genes"
   ],
   "metadata": {
    "collapsed": false
   }
  },
  {
   "cell_type": "code",
   "execution_count": 52,
   "outputs": [
    {
     "data": {
      "text/plain": "Empty DataFrame\nColumns: []\nIndex: [MT-ND1, MT-ND2, MT-CO1, MT-CO2, MT-ATP8, MT-ATP6, MT-CO3, MT-ND3, MT-ND4L, MT-ND4, MT-ND5, MT-ND6, MT-CYB]",
      "text/html": "<div>\n<style scoped>\n    .dataframe tbody tr th:only-of-type {\n        vertical-align: middle;\n    }\n\n    .dataframe tbody tr th {\n        vertical-align: top;\n    }\n\n    .dataframe thead th {\n        text-align: right;\n    }\n</style>\n<table border=\"1\" class=\"dataframe\">\n  <thead>\n    <tr style=\"text-align: right;\">\n      <th></th>\n    </tr>\n  </thead>\n  <tbody>\n    <tr>\n      <th>MT-ND1</th>\n    </tr>\n    <tr>\n      <th>MT-ND2</th>\n    </tr>\n    <tr>\n      <th>MT-CO1</th>\n    </tr>\n    <tr>\n      <th>MT-CO2</th>\n    </tr>\n    <tr>\n      <th>MT-ATP8</th>\n    </tr>\n    <tr>\n      <th>MT-ATP6</th>\n    </tr>\n    <tr>\n      <th>MT-CO3</th>\n    </tr>\n    <tr>\n      <th>MT-ND3</th>\n    </tr>\n    <tr>\n      <th>MT-ND4L</th>\n    </tr>\n    <tr>\n      <th>MT-ND4</th>\n    </tr>\n    <tr>\n      <th>MT-ND5</th>\n    </tr>\n    <tr>\n      <th>MT-ND6</th>\n    </tr>\n    <tr>\n      <th>MT-CYB</th>\n    </tr>\n  </tbody>\n</table>\n</div>"
     },
     "execution_count": 52,
     "metadata": {},
     "output_type": "execute_result"
    }
   ],
   "source": [
    "adata.var[adata.var.index.str.startswith('MT-')]"
   ],
   "metadata": {
    "collapsed": false
   }
  },
  {
   "cell_type": "code",
   "execution_count": null,
   "outputs": [],
   "source": [
    "#annotate mitochondrial genes\n",
    "adata.var['mt'] = adata.var.index.str.startswith('MT-')"
   ],
   "metadata": {
    "collapsed": false,
    "pycharm": {
     "is_executing": true
    }
   }
  },
  {
   "cell_type": "code",
   "execution_count": 54,
   "outputs": [
    {
     "data": {
      "text/plain": "               mt\nAL627309.1  False\nAL627309.5  False\nAL627309.4  False\nAL669831.2  False\nLINC01409   False\n...           ...\nVN1R2       False\nAL031676.1  False\nSMIM34A     False\nAL050402.1  False\nAL445072.1  False\n\n[34546 rows x 1 columns]",
      "text/html": "<div>\n<style scoped>\n    .dataframe tbody tr th:only-of-type {\n        vertical-align: middle;\n    }\n\n    .dataframe tbody tr th {\n        vertical-align: top;\n    }\n\n    .dataframe thead th {\n        text-align: right;\n    }\n</style>\n<table border=\"1\" class=\"dataframe\">\n  <thead>\n    <tr style=\"text-align: right;\">\n      <th></th>\n      <th>mt</th>\n    </tr>\n  </thead>\n  <tbody>\n    <tr>\n      <th>AL627309.1</th>\n      <td>False</td>\n    </tr>\n    <tr>\n      <th>AL627309.5</th>\n      <td>False</td>\n    </tr>\n    <tr>\n      <th>AL627309.4</th>\n      <td>False</td>\n    </tr>\n    <tr>\n      <th>AL669831.2</th>\n      <td>False</td>\n    </tr>\n    <tr>\n      <th>LINC01409</th>\n      <td>False</td>\n    </tr>\n    <tr>\n      <th>...</th>\n      <td>...</td>\n    </tr>\n    <tr>\n      <th>VN1R2</th>\n      <td>False</td>\n    </tr>\n    <tr>\n      <th>AL031676.1</th>\n      <td>False</td>\n    </tr>\n    <tr>\n      <th>SMIM34A</th>\n      <td>False</td>\n    </tr>\n    <tr>\n      <th>AL050402.1</th>\n      <td>False</td>\n    </tr>\n    <tr>\n      <th>AL445072.1</th>\n      <td>False</td>\n    </tr>\n  </tbody>\n</table>\n<p>34546 rows × 1 columns</p>\n</div>"
     },
     "execution_count": 54,
     "metadata": {},
     "output_type": "execute_result"
    }
   ],
   "source": [
    "adata.var"
   ],
   "metadata": {
    "collapsed": false
   }
  },
  {
   "cell_type": "markdown",
   "source": [
    "#filter out ribosomal genes\n"
   ],
   "metadata": {
    "collapsed": false
   }
  },
  {
   "cell_type": "code",
   "execution_count": 56,
   "outputs": [],
   "source": [
    "import pandas as pd"
   ],
   "metadata": {
    "collapsed": false
   }
  },
  {
   "cell_type": "code",
   "execution_count": null,
   "outputs": [],
   "source": [],
   "metadata": {
    "collapsed": false
   }
  }
 ],
 "metadata": {
  "kernelspec": {
   "display_name": "Python 3",
   "language": "python",
   "name": "python3"
  },
  "language_info": {
   "codemirror_mode": {
    "name": "ipython",
    "version": 2
   },
   "file_extension": ".py",
   "mimetype": "text/x-python",
   "name": "python",
   "nbconvert_exporter": "python",
   "pygments_lexer": "ipython2",
   "version": "2.7.6"
  }
 },
 "nbformat": 4,
 "nbformat_minor": 0
}
